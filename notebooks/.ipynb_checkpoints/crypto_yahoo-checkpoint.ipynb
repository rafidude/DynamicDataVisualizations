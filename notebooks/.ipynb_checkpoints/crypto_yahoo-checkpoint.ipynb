{
 "cells": [
  {
   "cell_type": "code",
   "execution_count": 30,
   "id": "bibliographic-intention",
   "metadata": {},
   "outputs": [],
   "source": [
    "import numpy as np\n",
    "import pandas as pd\n",
    "import matplotlib.pyplot as plt"
   ]
  },
  {
   "cell_type": "code",
   "execution_count": 31,
   "id": "latin-submission",
   "metadata": {},
   "outputs": [],
   "source": [
    "import pandas_datareader as web\n",
    "import datetime as dt"
   ]
  },
  {
   "cell_type": "code",
   "execution_count": 32,
   "id": "expanded-playlist",
   "metadata": {},
   "outputs": [
    {
     "data": {
      "text/plain": [
       "'BTC-USD'"
      ]
     },
     "execution_count": 32,
     "metadata": {},
     "output_type": "execute_result"
    }
   ],
   "source": [
    "crypto = 'BTC'\n",
    "currency = 'USD'\n",
    "ticker = f'{crypto}-{currency}'\n",
    "ticker"
   ]
  },
  {
   "cell_type": "code",
   "execution_count": 33,
   "id": "unauthorized-premiere",
   "metadata": {},
   "outputs": [],
   "source": [
    "start = dt.datetime(2015,1,1)\n",
    "end = dt.datetime.now()"
   ]
  },
  {
   "cell_type": "code",
   "execution_count": 34,
   "id": "prime-deviation",
   "metadata": {},
   "outputs": [],
   "source": [
    "data = web.DataReader(ticker, 'yahoo', start, end)"
   ]
  },
  {
   "cell_type": "code",
   "execution_count": 35,
   "id": "cognitive-slovak",
   "metadata": {},
   "outputs": [
    {
     "data": {
      "text/html": [
       "<div>\n",
       "<style scoped>\n",
       "    .dataframe tbody tr th:only-of-type {\n",
       "        vertical-align: middle;\n",
       "    }\n",
       "\n",
       "    .dataframe tbody tr th {\n",
       "        vertical-align: top;\n",
       "    }\n",
       "\n",
       "    .dataframe thead th {\n",
       "        text-align: right;\n",
       "    }\n",
       "</style>\n",
       "<table border=\"1\" class=\"dataframe\">\n",
       "  <thead>\n",
       "    <tr style=\"text-align: right;\">\n",
       "      <th></th>\n",
       "      <th>High</th>\n",
       "      <th>Low</th>\n",
       "      <th>Open</th>\n",
       "      <th>Close</th>\n",
       "      <th>Volume</th>\n",
       "      <th>Adj Close</th>\n",
       "    </tr>\n",
       "    <tr>\n",
       "      <th>Date</th>\n",
       "      <th></th>\n",
       "      <th></th>\n",
       "      <th></th>\n",
       "      <th></th>\n",
       "      <th></th>\n",
       "      <th></th>\n",
       "    </tr>\n",
       "  </thead>\n",
       "  <tbody>\n",
       "    <tr>\n",
       "      <th>2015-01-01</th>\n",
       "      <td>320.434998</td>\n",
       "      <td>314.002991</td>\n",
       "      <td>320.434998</td>\n",
       "      <td>314.248993</td>\n",
       "      <td>8036550.0</td>\n",
       "      <td>314.248993</td>\n",
       "    </tr>\n",
       "    <tr>\n",
       "      <th>2015-01-02</th>\n",
       "      <td>315.838989</td>\n",
       "      <td>313.565002</td>\n",
       "      <td>314.079010</td>\n",
       "      <td>315.032013</td>\n",
       "      <td>7860650.0</td>\n",
       "      <td>315.032013</td>\n",
       "    </tr>\n",
       "    <tr>\n",
       "      <th>2015-01-03</th>\n",
       "      <td>315.149994</td>\n",
       "      <td>281.082001</td>\n",
       "      <td>314.846008</td>\n",
       "      <td>281.082001</td>\n",
       "      <td>33054400.0</td>\n",
       "      <td>281.082001</td>\n",
       "    </tr>\n",
       "    <tr>\n",
       "      <th>2015-01-04</th>\n",
       "      <td>287.230011</td>\n",
       "      <td>257.612000</td>\n",
       "      <td>281.145996</td>\n",
       "      <td>264.195007</td>\n",
       "      <td>55629100.0</td>\n",
       "      <td>264.195007</td>\n",
       "    </tr>\n",
       "    <tr>\n",
       "      <th>2015-01-05</th>\n",
       "      <td>278.341003</td>\n",
       "      <td>265.084015</td>\n",
       "      <td>265.084015</td>\n",
       "      <td>274.473999</td>\n",
       "      <td>43962800.0</td>\n",
       "      <td>274.473999</td>\n",
       "    </tr>\n",
       "  </tbody>\n",
       "</table>\n",
       "</div>"
      ],
      "text/plain": [
       "                  High         Low        Open       Close      Volume  \\\n",
       "Date                                                                     \n",
       "2015-01-01  320.434998  314.002991  320.434998  314.248993   8036550.0   \n",
       "2015-01-02  315.838989  313.565002  314.079010  315.032013   7860650.0   \n",
       "2015-01-03  315.149994  281.082001  314.846008  281.082001  33054400.0   \n",
       "2015-01-04  287.230011  257.612000  281.145996  264.195007  55629100.0   \n",
       "2015-01-05  278.341003  265.084015  265.084015  274.473999  43962800.0   \n",
       "\n",
       "             Adj Close  \n",
       "Date                    \n",
       "2015-01-01  314.248993  \n",
       "2015-01-02  315.032013  \n",
       "2015-01-03  281.082001  \n",
       "2015-01-04  264.195007  \n",
       "2015-01-05  274.473999  "
      ]
     },
     "execution_count": 35,
     "metadata": {},
     "output_type": "execute_result"
    }
   ],
   "source": [
    "data.head()"
   ]
  },
  {
   "cell_type": "code",
   "execution_count": 36,
   "id": "selected-liquid",
   "metadata": {},
   "outputs": [],
   "source": [
    "# BTC halving dates\n",
    "# 29th of November, 2012 -> dt.datetime(2012, 11, 29)\n",
    "# 10th of July, 2016 -> dt.datetime(2016, 7, 10)\n",
    "# 11th of May, 2020 -> dt.datetime(2020, 5, 11)"
   ]
  },
  {
   "cell_type": "code",
   "execution_count": 37,
   "id": "suited-order",
   "metadata": {},
   "outputs": [],
   "source": [
    "first_halving = dt.datetime(2012, 11, 29)\n",
    "second_halving = dt.datetime(2016, 7, 10)\n",
    "third_halving = dt.datetime(2020, 5, 11)"
   ]
  },
  {
   "cell_type": "code",
   "execution_count": 38,
   "id": "ongoing-controversy",
   "metadata": {},
   "outputs": [],
   "source": [
    "start1 = dt.datetime(2012 - 1, 11, 29)\n",
    "end1 = dt.datetime(2012 + 2, 11, 29)"
   ]
  },
  {
   "cell_type": "code",
   "execution_count": 39,
   "id": "vertical-ukraine",
   "metadata": {},
   "outputs": [],
   "source": [
    "start2 = dt.datetime(2016 - 1, 7, 10)\n",
    "end2 = dt.datetime(2016 + 2, 7, 10)"
   ]
  },
  {
   "cell_type": "code",
   "execution_count": 40,
   "id": "dressed-czech",
   "metadata": {},
   "outputs": [],
   "source": [
    "start3 = dt.datetime(2020 - 1, 5, 11)\n",
    "end3 = dt.datetime(2020 + 2, 5, 11)"
   ]
  },
  {
   "cell_type": "code",
   "execution_count": 41,
   "id": "thousand-plain",
   "metadata": {},
   "outputs": [],
   "source": [
    "first4 = web.DataReader(ticker, 'yahoo', start1, end1)\n",
    "second4 = web.DataReader(ticker, 'yahoo', start2, end2)\n",
    "third4 = web.DataReader(ticker, 'yahoo', start3, end3)"
   ]
  },
  {
   "cell_type": "code",
   "execution_count": 42,
   "id": "educated-corpus",
   "metadata": {},
   "outputs": [],
   "source": [
    "import fastquant as fq"
   ]
  },
  {
   "cell_type": "code",
   "execution_count": 43,
   "id": "nominated-phoenix",
   "metadata": {},
   "outputs": [],
   "source": [
    "first4 = fq.get_crypto_data('BTC/USDT', '2011-11-29', '2013-11-28')\n",
    "# second4 = fq.get_crypto_data('BTC/USDT', start2, end2)\n",
    "# third4 = fq.get_crypto_data('BTC/USDT', start3, end3)"
   ]
  },
  {
   "cell_type": "code",
   "execution_count": 46,
   "id": "personalized-boston",
   "metadata": {},
   "outputs": [],
   "source": [
    "from fastquant import get_yahoo_data, get_bt_news_sentiment"
   ]
  },
  {
   "cell_type": "code",
   "execution_count": null,
   "id": "raised-convert",
   "metadata": {},
   "outputs": [
    {
     "name": "stderr",
     "output_type": "stream",
     "text": [
      "Exception in thread Thread-5:\n",
      "Traceback (most recent call last):\n",
      "  File \"/usr/local/Cellar/python@3.9/3.9.6/Frameworks/Python.framework/Versions/3.9/lib/python3.9/threading.py\", line 973, in _bootstrap_inner\n",
      "    self.run()\n",
      "  File \"/usr/local/Cellar/python@3.9/3.9.6/Frameworks/Python.framework/Versions/3.9/lib/python3.9/threading.py\", line 910, in run\n",
      "    self._target(*self._args, **self._kwargs)\n",
      "  File \"/usr/local/lib/python3.9/site-packages/multitasking/__init__.py\", line 102, in _run_via_pool\n",
      "    return callee(*args, **kwargs)\n",
      "  File \"/usr/local/lib/python3.9/site-packages/yfinance/multi.py\", line 169, in _download_one_threaded\n",
      "    data = _download_one(ticker, start, end, auto_adjust, back_adjust,\n",
      "  File \"/usr/local/lib/python3.9/site-packages/yfinance/multi.py\", line 181, in _download_one\n",
      "    return Ticker(ticker).history(period=period, interval=interval,\n",
      "  File \"/usr/local/lib/python3.9/site-packages/yfinance/base.py\", line 157, in history\n",
      "    data = data.json()\n",
      "  File \"/usr/local/lib/python3.9/site-packages/requests/models.py\", line 900, in json\n",
      "    return complexjson.loads(self.text, **kwargs)\n",
      "  File \"/usr/local/Cellar/python@3.9/3.9.6/Frameworks/Python.framework/Versions/3.9/lib/python3.9/json/__init__.py\", line 346, in loads\n",
      "    return _default_decoder.decode(s)\n",
      "  File \"/usr/local/Cellar/python@3.9/3.9.6/Frameworks/Python.framework/Versions/3.9/lib/python3.9/json/decoder.py\", line 337, in decode\n",
      "    obj, end = self.raw_decode(s, idx=_w(s, 0).end())\n",
      "  File \"/usr/local/Cellar/python@3.9/3.9.6/Frameworks/Python.framework/Versions/3.9/lib/python3.9/json/decoder.py\", line 355, in raw_decode\n",
      "    raise JSONDecodeError(\"Expecting value\", s, err.value) from None\n",
      "json.decoder.JSONDecodeError: Expecting value: line 1 column 1 (char 0)\n"
     ]
    }
   ],
   "source": [
    "data = get_yahoo_data(\"TSLA\", \"2020-01-01\", \"2020-07-04\")"
   ]
  },
  {
   "cell_type": "code",
   "execution_count": null,
   "id": "deadly-determination",
   "metadata": {},
   "outputs": [],
   "source": []
  }
 ],
 "metadata": {
  "kernelspec": {
   "display_name": "Python 3",
   "language": "python",
   "name": "python3"
  },
  "language_info": {
   "codemirror_mode": {
    "name": "ipython",
    "version": 3
   },
   "file_extension": ".py",
   "mimetype": "text/x-python",
   "name": "python",
   "nbconvert_exporter": "python",
   "pygments_lexer": "ipython3",
   "version": "3.9.6"
  }
 },
 "nbformat": 4,
 "nbformat_minor": 5
}
